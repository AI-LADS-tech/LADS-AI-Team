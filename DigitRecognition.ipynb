{
 "cells": [
  {
   "cell_type": "code",
   "execution_count": 2,
   "metadata": {},
   "outputs": [],
   "source": [
    "import numpy as np\n",
    "import pandas as pd\n",
    "import seaborn as sns \n",
    "import matplotlib.pyplot as plt\n"
   ]
  },
  {
   "cell_type": "code",
   "execution_count": null,
   "metadata": {},
   "outputs": [],
   "source": []
  },
  {
   "cell_type": "code",
   "execution_count": null,
   "metadata": {},
   "outputs": [],
   "source": []
  },
  {
   "cell_type": "code",
   "execution_count": 3,
   "metadata": {},
   "outputs": [
    {
     "data": {
      "text/html": [
       "<div>\n",
       "<style scoped>\n",
       "    .dataframe tbody tr th:only-of-type {\n",
       "        vertical-align: middle;\n",
       "    }\n",
       "\n",
       "    .dataframe tbody tr th {\n",
       "        vertical-align: top;\n",
       "    }\n",
       "\n",
       "    .dataframe thead th {\n",
       "        text-align: right;\n",
       "    }\n",
       "</style>\n",
       "<table border=\"1\" class=\"dataframe\">\n",
       "  <thead>\n",
       "    <tr style=\"text-align: right;\">\n",
       "      <th></th>\n",
       "      <th>label</th>\n",
       "      <th>pixel0</th>\n",
       "      <th>pixel1</th>\n",
       "      <th>pixel2</th>\n",
       "      <th>pixel3</th>\n",
       "      <th>pixel4</th>\n",
       "      <th>pixel5</th>\n",
       "      <th>pixel6</th>\n",
       "      <th>pixel7</th>\n",
       "      <th>pixel8</th>\n",
       "      <th>...</th>\n",
       "      <th>pixel774</th>\n",
       "      <th>pixel775</th>\n",
       "      <th>pixel776</th>\n",
       "      <th>pixel777</th>\n",
       "      <th>pixel778</th>\n",
       "      <th>pixel779</th>\n",
       "      <th>pixel780</th>\n",
       "      <th>pixel781</th>\n",
       "      <th>pixel782</th>\n",
       "      <th>pixel783</th>\n",
       "    </tr>\n",
       "  </thead>\n",
       "  <tbody>\n",
       "    <tr>\n",
       "      <th>0</th>\n",
       "      <td>1</td>\n",
       "      <td>0</td>\n",
       "      <td>0</td>\n",
       "      <td>0</td>\n",
       "      <td>0</td>\n",
       "      <td>0</td>\n",
       "      <td>0</td>\n",
       "      <td>0</td>\n",
       "      <td>0</td>\n",
       "      <td>0</td>\n",
       "      <td>...</td>\n",
       "      <td>0</td>\n",
       "      <td>0</td>\n",
       "      <td>0</td>\n",
       "      <td>0</td>\n",
       "      <td>0</td>\n",
       "      <td>0</td>\n",
       "      <td>0</td>\n",
       "      <td>0</td>\n",
       "      <td>0</td>\n",
       "      <td>0</td>\n",
       "    </tr>\n",
       "    <tr>\n",
       "      <th>1</th>\n",
       "      <td>0</td>\n",
       "      <td>0</td>\n",
       "      <td>0</td>\n",
       "      <td>0</td>\n",
       "      <td>0</td>\n",
       "      <td>0</td>\n",
       "      <td>0</td>\n",
       "      <td>0</td>\n",
       "      <td>0</td>\n",
       "      <td>0</td>\n",
       "      <td>...</td>\n",
       "      <td>0</td>\n",
       "      <td>0</td>\n",
       "      <td>0</td>\n",
       "      <td>0</td>\n",
       "      <td>0</td>\n",
       "      <td>0</td>\n",
       "      <td>0</td>\n",
       "      <td>0</td>\n",
       "      <td>0</td>\n",
       "      <td>0</td>\n",
       "    </tr>\n",
       "    <tr>\n",
       "      <th>2</th>\n",
       "      <td>1</td>\n",
       "      <td>0</td>\n",
       "      <td>0</td>\n",
       "      <td>0</td>\n",
       "      <td>0</td>\n",
       "      <td>0</td>\n",
       "      <td>0</td>\n",
       "      <td>0</td>\n",
       "      <td>0</td>\n",
       "      <td>0</td>\n",
       "      <td>...</td>\n",
       "      <td>0</td>\n",
       "      <td>0</td>\n",
       "      <td>0</td>\n",
       "      <td>0</td>\n",
       "      <td>0</td>\n",
       "      <td>0</td>\n",
       "      <td>0</td>\n",
       "      <td>0</td>\n",
       "      <td>0</td>\n",
       "      <td>0</td>\n",
       "    </tr>\n",
       "  </tbody>\n",
       "</table>\n",
       "<p>3 rows × 785 columns</p>\n",
       "</div>"
      ],
      "text/plain": [
       "   label  pixel0  pixel1  pixel2  pixel3  pixel4  pixel5  pixel6  pixel7  \\\n",
       "0      1       0       0       0       0       0       0       0       0   \n",
       "1      0       0       0       0       0       0       0       0       0   \n",
       "2      1       0       0       0       0       0       0       0       0   \n",
       "\n",
       "   pixel8    ...     pixel774  pixel775  pixel776  pixel777  pixel778  \\\n",
       "0       0    ...            0         0         0         0         0   \n",
       "1       0    ...            0         0         0         0         0   \n",
       "2       0    ...            0         0         0         0         0   \n",
       "\n",
       "   pixel779  pixel780  pixel781  pixel782  pixel783  \n",
       "0         0         0         0         0         0  \n",
       "1         0         0         0         0         0  \n",
       "2         0         0         0         0         0  \n",
       "\n",
       "[3 rows x 785 columns]"
      ]
     },
     "execution_count": 3,
     "metadata": {},
     "output_type": "execute_result"
    }
   ],
   "source": [
    "train =pd.read_csv(\"D:/Lads Work/DigitRecognition/train/train.csv\")\n",
    "train.head(3)"
   ]
  },
  {
   "cell_type": "code",
   "execution_count": null,
   "metadata": {},
   "outputs": [],
   "source": []
  },
  {
   "cell_type": "code",
   "execution_count": null,
   "metadata": {},
   "outputs": [],
   "source": []
  },
  {
   "cell_type": "code",
   "execution_count": null,
   "metadata": {},
   "outputs": [],
   "source": []
  },
  {
   "cell_type": "code",
   "execution_count": 4,
   "metadata": {},
   "outputs": [
    {
     "name": "stdout",
     "output_type": "stream",
     "text": [
      "(42000, 785)\n"
     ]
    }
   ],
   "source": [
    "print(train.shape)"
   ]
  },
  {
   "cell_type": "code",
   "execution_count": null,
   "metadata": {},
   "outputs": [],
   "source": []
  },
  {
   "cell_type": "code",
   "execution_count": null,
   "metadata": {},
   "outputs": [],
   "source": []
  },
  {
   "cell_type": "code",
   "execution_count": null,
   "metadata": {},
   "outputs": [],
   "source": []
  },
  {
   "cell_type": "code",
   "execution_count": 5,
   "metadata": {},
   "outputs": [
    {
     "name": "stdout",
     "output_type": "stream",
     "text": [
      "<class 'pandas.core.frame.DataFrame'>\n",
      "RangeIndex: 42000 entries, 0 to 41999\n",
      "Columns: 785 entries, label to pixel783\n",
      "dtypes: int64(785)\n",
      "memory usage: 251.5 MB\n"
     ]
    }
   ],
   "source": [
    "train.info()"
   ]
  },
  {
   "cell_type": "code",
   "execution_count": null,
   "metadata": {},
   "outputs": [],
   "source": []
  },
  {
   "cell_type": "code",
   "execution_count": null,
   "metadata": {},
   "outputs": [],
   "source": []
  },
  {
   "cell_type": "code",
   "execution_count": null,
   "metadata": {},
   "outputs": [],
   "source": []
  },
  {
   "cell_type": "code",
   "execution_count": 6,
   "metadata": {},
   "outputs": [
    {
     "name": "stdout",
     "output_type": "stream",
     "text": [
      "Index(['label', 'pixel0', 'pixel1', 'pixel2', 'pixel3', 'pixel4', 'pixel5',\n",
      "       'pixel6', 'pixel7', 'pixel8',\n",
      "       ...\n",
      "       'pixel774', 'pixel775', 'pixel776', 'pixel777', 'pixel778', 'pixel779',\n",
      "       'pixel780', 'pixel781', 'pixel782', 'pixel783'],\n",
      "      dtype='object', length=785)\n"
     ]
    }
   ],
   "source": [
    "print(train.columns)"
   ]
  },
  {
   "cell_type": "code",
   "execution_count": null,
   "metadata": {},
   "outputs": [],
   "source": []
  },
  {
   "cell_type": "code",
   "execution_count": null,
   "metadata": {},
   "outputs": [],
   "source": []
  },
  {
   "cell_type": "code",
   "execution_count": null,
   "metadata": {},
   "outputs": [],
   "source": []
  },
  {
   "cell_type": "code",
   "execution_count": 7,
   "metadata": {},
   "outputs": [
    {
     "data": {
      "text/html": [
       "<div>\n",
       "<style scoped>\n",
       "    .dataframe tbody tr th:only-of-type {\n",
       "        vertical-align: middle;\n",
       "    }\n",
       "\n",
       "    .dataframe tbody tr th {\n",
       "        vertical-align: top;\n",
       "    }\n",
       "\n",
       "    .dataframe thead th {\n",
       "        text-align: right;\n",
       "    }\n",
       "</style>\n",
       "<table border=\"1\" class=\"dataframe\">\n",
       "  <thead>\n",
       "    <tr style=\"text-align: right;\">\n",
       "      <th></th>\n",
       "      <th>label</th>\n",
       "      <th>pixel0</th>\n",
       "      <th>pixel1</th>\n",
       "      <th>pixel2</th>\n",
       "      <th>pixel3</th>\n",
       "      <th>pixel4</th>\n",
       "      <th>pixel5</th>\n",
       "      <th>pixel6</th>\n",
       "      <th>pixel7</th>\n",
       "      <th>pixel8</th>\n",
       "      <th>...</th>\n",
       "      <th>pixel774</th>\n",
       "      <th>pixel775</th>\n",
       "      <th>pixel776</th>\n",
       "      <th>pixel777</th>\n",
       "      <th>pixel778</th>\n",
       "      <th>pixel779</th>\n",
       "      <th>pixel780</th>\n",
       "      <th>pixel781</th>\n",
       "      <th>pixel782</th>\n",
       "      <th>pixel783</th>\n",
       "    </tr>\n",
       "  </thead>\n",
       "  <tbody>\n",
       "    <tr>\n",
       "      <th>count</th>\n",
       "      <td>42000.000000</td>\n",
       "      <td>42000.0</td>\n",
       "      <td>42000.0</td>\n",
       "      <td>42000.0</td>\n",
       "      <td>42000.0</td>\n",
       "      <td>42000.0</td>\n",
       "      <td>42000.0</td>\n",
       "      <td>42000.0</td>\n",
       "      <td>42000.0</td>\n",
       "      <td>42000.0</td>\n",
       "      <td>...</td>\n",
       "      <td>42000.000000</td>\n",
       "      <td>42000.000000</td>\n",
       "      <td>42000.000000</td>\n",
       "      <td>42000.00000</td>\n",
       "      <td>42000.000000</td>\n",
       "      <td>42000.000000</td>\n",
       "      <td>42000.0</td>\n",
       "      <td>42000.0</td>\n",
       "      <td>42000.0</td>\n",
       "      <td>42000.0</td>\n",
       "    </tr>\n",
       "    <tr>\n",
       "      <th>mean</th>\n",
       "      <td>4.456643</td>\n",
       "      <td>0.0</td>\n",
       "      <td>0.0</td>\n",
       "      <td>0.0</td>\n",
       "      <td>0.0</td>\n",
       "      <td>0.0</td>\n",
       "      <td>0.0</td>\n",
       "      <td>0.0</td>\n",
       "      <td>0.0</td>\n",
       "      <td>0.0</td>\n",
       "      <td>...</td>\n",
       "      <td>0.219286</td>\n",
       "      <td>0.117095</td>\n",
       "      <td>0.059024</td>\n",
       "      <td>0.02019</td>\n",
       "      <td>0.017238</td>\n",
       "      <td>0.002857</td>\n",
       "      <td>0.0</td>\n",
       "      <td>0.0</td>\n",
       "      <td>0.0</td>\n",
       "      <td>0.0</td>\n",
       "    </tr>\n",
       "    <tr>\n",
       "      <th>std</th>\n",
       "      <td>2.887730</td>\n",
       "      <td>0.0</td>\n",
       "      <td>0.0</td>\n",
       "      <td>0.0</td>\n",
       "      <td>0.0</td>\n",
       "      <td>0.0</td>\n",
       "      <td>0.0</td>\n",
       "      <td>0.0</td>\n",
       "      <td>0.0</td>\n",
       "      <td>0.0</td>\n",
       "      <td>...</td>\n",
       "      <td>6.312890</td>\n",
       "      <td>4.633819</td>\n",
       "      <td>3.274488</td>\n",
       "      <td>1.75987</td>\n",
       "      <td>1.894498</td>\n",
       "      <td>0.414264</td>\n",
       "      <td>0.0</td>\n",
       "      <td>0.0</td>\n",
       "      <td>0.0</td>\n",
       "      <td>0.0</td>\n",
       "    </tr>\n",
       "    <tr>\n",
       "      <th>min</th>\n",
       "      <td>0.000000</td>\n",
       "      <td>0.0</td>\n",
       "      <td>0.0</td>\n",
       "      <td>0.0</td>\n",
       "      <td>0.0</td>\n",
       "      <td>0.0</td>\n",
       "      <td>0.0</td>\n",
       "      <td>0.0</td>\n",
       "      <td>0.0</td>\n",
       "      <td>0.0</td>\n",
       "      <td>...</td>\n",
       "      <td>0.000000</td>\n",
       "      <td>0.000000</td>\n",
       "      <td>0.000000</td>\n",
       "      <td>0.00000</td>\n",
       "      <td>0.000000</td>\n",
       "      <td>0.000000</td>\n",
       "      <td>0.0</td>\n",
       "      <td>0.0</td>\n",
       "      <td>0.0</td>\n",
       "      <td>0.0</td>\n",
       "    </tr>\n",
       "    <tr>\n",
       "      <th>25%</th>\n",
       "      <td>2.000000</td>\n",
       "      <td>0.0</td>\n",
       "      <td>0.0</td>\n",
       "      <td>0.0</td>\n",
       "      <td>0.0</td>\n",
       "      <td>0.0</td>\n",
       "      <td>0.0</td>\n",
       "      <td>0.0</td>\n",
       "      <td>0.0</td>\n",
       "      <td>0.0</td>\n",
       "      <td>...</td>\n",
       "      <td>0.000000</td>\n",
       "      <td>0.000000</td>\n",
       "      <td>0.000000</td>\n",
       "      <td>0.00000</td>\n",
       "      <td>0.000000</td>\n",
       "      <td>0.000000</td>\n",
       "      <td>0.0</td>\n",
       "      <td>0.0</td>\n",
       "      <td>0.0</td>\n",
       "      <td>0.0</td>\n",
       "    </tr>\n",
       "    <tr>\n",
       "      <th>50%</th>\n",
       "      <td>4.000000</td>\n",
       "      <td>0.0</td>\n",
       "      <td>0.0</td>\n",
       "      <td>0.0</td>\n",
       "      <td>0.0</td>\n",
       "      <td>0.0</td>\n",
       "      <td>0.0</td>\n",
       "      <td>0.0</td>\n",
       "      <td>0.0</td>\n",
       "      <td>0.0</td>\n",
       "      <td>...</td>\n",
       "      <td>0.000000</td>\n",
       "      <td>0.000000</td>\n",
       "      <td>0.000000</td>\n",
       "      <td>0.00000</td>\n",
       "      <td>0.000000</td>\n",
       "      <td>0.000000</td>\n",
       "      <td>0.0</td>\n",
       "      <td>0.0</td>\n",
       "      <td>0.0</td>\n",
       "      <td>0.0</td>\n",
       "    </tr>\n",
       "    <tr>\n",
       "      <th>75%</th>\n",
       "      <td>7.000000</td>\n",
       "      <td>0.0</td>\n",
       "      <td>0.0</td>\n",
       "      <td>0.0</td>\n",
       "      <td>0.0</td>\n",
       "      <td>0.0</td>\n",
       "      <td>0.0</td>\n",
       "      <td>0.0</td>\n",
       "      <td>0.0</td>\n",
       "      <td>0.0</td>\n",
       "      <td>...</td>\n",
       "      <td>0.000000</td>\n",
       "      <td>0.000000</td>\n",
       "      <td>0.000000</td>\n",
       "      <td>0.00000</td>\n",
       "      <td>0.000000</td>\n",
       "      <td>0.000000</td>\n",
       "      <td>0.0</td>\n",
       "      <td>0.0</td>\n",
       "      <td>0.0</td>\n",
       "      <td>0.0</td>\n",
       "    </tr>\n",
       "    <tr>\n",
       "      <th>max</th>\n",
       "      <td>9.000000</td>\n",
       "      <td>0.0</td>\n",
       "      <td>0.0</td>\n",
       "      <td>0.0</td>\n",
       "      <td>0.0</td>\n",
       "      <td>0.0</td>\n",
       "      <td>0.0</td>\n",
       "      <td>0.0</td>\n",
       "      <td>0.0</td>\n",
       "      <td>0.0</td>\n",
       "      <td>...</td>\n",
       "      <td>254.000000</td>\n",
       "      <td>254.000000</td>\n",
       "      <td>253.000000</td>\n",
       "      <td>253.00000</td>\n",
       "      <td>254.000000</td>\n",
       "      <td>62.000000</td>\n",
       "      <td>0.0</td>\n",
       "      <td>0.0</td>\n",
       "      <td>0.0</td>\n",
       "      <td>0.0</td>\n",
       "    </tr>\n",
       "  </tbody>\n",
       "</table>\n",
       "<p>8 rows × 785 columns</p>\n",
       "</div>"
      ],
      "text/plain": [
       "              label   pixel0   pixel1   pixel2   pixel3   pixel4   pixel5  \\\n",
       "count  42000.000000  42000.0  42000.0  42000.0  42000.0  42000.0  42000.0   \n",
       "mean       4.456643      0.0      0.0      0.0      0.0      0.0      0.0   \n",
       "std        2.887730      0.0      0.0      0.0      0.0      0.0      0.0   \n",
       "min        0.000000      0.0      0.0      0.0      0.0      0.0      0.0   \n",
       "25%        2.000000      0.0      0.0      0.0      0.0      0.0      0.0   \n",
       "50%        4.000000      0.0      0.0      0.0      0.0      0.0      0.0   \n",
       "75%        7.000000      0.0      0.0      0.0      0.0      0.0      0.0   \n",
       "max        9.000000      0.0      0.0      0.0      0.0      0.0      0.0   \n",
       "\n",
       "        pixel6   pixel7   pixel8    ...         pixel774      pixel775  \\\n",
       "count  42000.0  42000.0  42000.0    ...     42000.000000  42000.000000   \n",
       "mean       0.0      0.0      0.0    ...         0.219286      0.117095   \n",
       "std        0.0      0.0      0.0    ...         6.312890      4.633819   \n",
       "min        0.0      0.0      0.0    ...         0.000000      0.000000   \n",
       "25%        0.0      0.0      0.0    ...         0.000000      0.000000   \n",
       "50%        0.0      0.0      0.0    ...         0.000000      0.000000   \n",
       "75%        0.0      0.0      0.0    ...         0.000000      0.000000   \n",
       "max        0.0      0.0      0.0    ...       254.000000    254.000000   \n",
       "\n",
       "           pixel776     pixel777      pixel778      pixel779  pixel780  \\\n",
       "count  42000.000000  42000.00000  42000.000000  42000.000000   42000.0   \n",
       "mean       0.059024      0.02019      0.017238      0.002857       0.0   \n",
       "std        3.274488      1.75987      1.894498      0.414264       0.0   \n",
       "min        0.000000      0.00000      0.000000      0.000000       0.0   \n",
       "25%        0.000000      0.00000      0.000000      0.000000       0.0   \n",
       "50%        0.000000      0.00000      0.000000      0.000000       0.0   \n",
       "75%        0.000000      0.00000      0.000000      0.000000       0.0   \n",
       "max      253.000000    253.00000    254.000000     62.000000       0.0   \n",
       "\n",
       "       pixel781  pixel782  pixel783  \n",
       "count   42000.0   42000.0   42000.0  \n",
       "mean        0.0       0.0       0.0  \n",
       "std         0.0       0.0       0.0  \n",
       "min         0.0       0.0       0.0  \n",
       "25%         0.0       0.0       0.0  \n",
       "50%         0.0       0.0       0.0  \n",
       "75%         0.0       0.0       0.0  \n",
       "max         0.0       0.0       0.0  \n",
       "\n",
       "[8 rows x 785 columns]"
      ]
     },
     "execution_count": 7,
     "metadata": {},
     "output_type": "execute_result"
    }
   ],
   "source": [
    "train.describe()"
   ]
  },
  {
   "cell_type": "code",
   "execution_count": null,
   "metadata": {},
   "outputs": [],
   "source": []
  },
  {
   "cell_type": "code",
   "execution_count": null,
   "metadata": {},
   "outputs": [],
   "source": []
  },
  {
   "cell_type": "code",
   "execution_count": null,
   "metadata": {},
   "outputs": [],
   "source": []
  },
  {
   "cell_type": "code",
   "execution_count": 8,
   "metadata": {},
   "outputs": [],
   "source": [
    "label_data=train.copy()"
   ]
  },
  {
   "cell_type": "code",
   "execution_count": null,
   "metadata": {},
   "outputs": [],
   "source": []
  },
  {
   "cell_type": "code",
   "execution_count": null,
   "metadata": {},
   "outputs": [],
   "source": []
  },
  {
   "cell_type": "code",
   "execution_count": null,
   "metadata": {},
   "outputs": [],
   "source": []
  },
  {
   "cell_type": "code",
   "execution_count": 9,
   "metadata": {},
   "outputs": [
    {
     "name": "stdout",
     "output_type": "stream",
     "text": [
      "(28000, 784)\n"
     ]
    }
   ],
   "source": [
    "test = pd.read_csv(\"D:/Lads Work/DigitRecognition/test/test.csv\")\n",
    "print(test.shape)"
   ]
  },
  {
   "cell_type": "code",
   "execution_count": null,
   "metadata": {},
   "outputs": [],
   "source": []
  },
  {
   "cell_type": "code",
   "execution_count": null,
   "metadata": {},
   "outputs": [],
   "source": []
  },
  {
   "cell_type": "code",
   "execution_count": null,
   "metadata": {},
   "outputs": [],
   "source": []
  },
  {
   "cell_type": "code",
   "execution_count": 10,
   "metadata": {},
   "outputs": [
    {
     "data": {
      "text/html": [
       "<div>\n",
       "<style scoped>\n",
       "    .dataframe tbody tr th:only-of-type {\n",
       "        vertical-align: middle;\n",
       "    }\n",
       "\n",
       "    .dataframe tbody tr th {\n",
       "        vertical-align: top;\n",
       "    }\n",
       "\n",
       "    .dataframe thead th {\n",
       "        text-align: right;\n",
       "    }\n",
       "</style>\n",
       "<table border=\"1\" class=\"dataframe\">\n",
       "  <thead>\n",
       "    <tr style=\"text-align: right;\">\n",
       "      <th></th>\n",
       "      <th>pixel0</th>\n",
       "      <th>pixel1</th>\n",
       "      <th>pixel2</th>\n",
       "      <th>pixel3</th>\n",
       "      <th>pixel4</th>\n",
       "      <th>pixel5</th>\n",
       "      <th>pixel6</th>\n",
       "      <th>pixel7</th>\n",
       "      <th>pixel8</th>\n",
       "      <th>pixel9</th>\n",
       "      <th>...</th>\n",
       "      <th>pixel774</th>\n",
       "      <th>pixel775</th>\n",
       "      <th>pixel776</th>\n",
       "      <th>pixel777</th>\n",
       "      <th>pixel778</th>\n",
       "      <th>pixel779</th>\n",
       "      <th>pixel780</th>\n",
       "      <th>pixel781</th>\n",
       "      <th>pixel782</th>\n",
       "      <th>pixel783</th>\n",
       "    </tr>\n",
       "  </thead>\n",
       "  <tbody>\n",
       "    <tr>\n",
       "      <th>0</th>\n",
       "      <td>0</td>\n",
       "      <td>0</td>\n",
       "      <td>0</td>\n",
       "      <td>0</td>\n",
       "      <td>0</td>\n",
       "      <td>0</td>\n",
       "      <td>0</td>\n",
       "      <td>0</td>\n",
       "      <td>0</td>\n",
       "      <td>0</td>\n",
       "      <td>...</td>\n",
       "      <td>0</td>\n",
       "      <td>0</td>\n",
       "      <td>0</td>\n",
       "      <td>0</td>\n",
       "      <td>0</td>\n",
       "      <td>0</td>\n",
       "      <td>0</td>\n",
       "      <td>0</td>\n",
       "      <td>0</td>\n",
       "      <td>0</td>\n",
       "    </tr>\n",
       "    <tr>\n",
       "      <th>1</th>\n",
       "      <td>0</td>\n",
       "      <td>0</td>\n",
       "      <td>0</td>\n",
       "      <td>0</td>\n",
       "      <td>0</td>\n",
       "      <td>0</td>\n",
       "      <td>0</td>\n",
       "      <td>0</td>\n",
       "      <td>0</td>\n",
       "      <td>0</td>\n",
       "      <td>...</td>\n",
       "      <td>0</td>\n",
       "      <td>0</td>\n",
       "      <td>0</td>\n",
       "      <td>0</td>\n",
       "      <td>0</td>\n",
       "      <td>0</td>\n",
       "      <td>0</td>\n",
       "      <td>0</td>\n",
       "      <td>0</td>\n",
       "      <td>0</td>\n",
       "    </tr>\n",
       "    <tr>\n",
       "      <th>2</th>\n",
       "      <td>0</td>\n",
       "      <td>0</td>\n",
       "      <td>0</td>\n",
       "      <td>0</td>\n",
       "      <td>0</td>\n",
       "      <td>0</td>\n",
       "      <td>0</td>\n",
       "      <td>0</td>\n",
       "      <td>0</td>\n",
       "      <td>0</td>\n",
       "      <td>...</td>\n",
       "      <td>0</td>\n",
       "      <td>0</td>\n",
       "      <td>0</td>\n",
       "      <td>0</td>\n",
       "      <td>0</td>\n",
       "      <td>0</td>\n",
       "      <td>0</td>\n",
       "      <td>0</td>\n",
       "      <td>0</td>\n",
       "      <td>0</td>\n",
       "    </tr>\n",
       "    <tr>\n",
       "      <th>3</th>\n",
       "      <td>0</td>\n",
       "      <td>0</td>\n",
       "      <td>0</td>\n",
       "      <td>0</td>\n",
       "      <td>0</td>\n",
       "      <td>0</td>\n",
       "      <td>0</td>\n",
       "      <td>0</td>\n",
       "      <td>0</td>\n",
       "      <td>0</td>\n",
       "      <td>...</td>\n",
       "      <td>0</td>\n",
       "      <td>0</td>\n",
       "      <td>0</td>\n",
       "      <td>0</td>\n",
       "      <td>0</td>\n",
       "      <td>0</td>\n",
       "      <td>0</td>\n",
       "      <td>0</td>\n",
       "      <td>0</td>\n",
       "      <td>0</td>\n",
       "    </tr>\n",
       "  </tbody>\n",
       "</table>\n",
       "<p>4 rows × 784 columns</p>\n",
       "</div>"
      ],
      "text/plain": [
       "   pixel0  pixel1  pixel2  pixel3  pixel4  pixel5  pixel6  pixel7  pixel8  \\\n",
       "0       0       0       0       0       0       0       0       0       0   \n",
       "1       0       0       0       0       0       0       0       0       0   \n",
       "2       0       0       0       0       0       0       0       0       0   \n",
       "3       0       0       0       0       0       0       0       0       0   \n",
       "\n",
       "   pixel9    ...     pixel774  pixel775  pixel776  pixel777  pixel778  \\\n",
       "0       0    ...            0         0         0         0         0   \n",
       "1       0    ...            0         0         0         0         0   \n",
       "2       0    ...            0         0         0         0         0   \n",
       "3       0    ...            0         0         0         0         0   \n",
       "\n",
       "   pixel779  pixel780  pixel781  pixel782  pixel783  \n",
       "0         0         0         0         0         0  \n",
       "1         0         0         0         0         0  \n",
       "2         0         0         0         0         0  \n",
       "3         0         0         0         0         0  \n",
       "\n",
       "[4 rows x 784 columns]"
      ]
     },
     "execution_count": 10,
     "metadata": {},
     "output_type": "execute_result"
    }
   ],
   "source": [
    "test.head(4)"
   ]
  },
  {
   "cell_type": "code",
   "execution_count": null,
   "metadata": {},
   "outputs": [],
   "source": []
  },
  {
   "cell_type": "code",
   "execution_count": null,
   "metadata": {},
   "outputs": [],
   "source": []
  },
  {
   "cell_type": "code",
   "execution_count": null,
   "metadata": {},
   "outputs": [],
   "source": []
  },
  {
   "cell_type": "code",
   "execution_count": 11,
   "metadata": {},
   "outputs": [],
   "source": [
    "X=label_data.drop([\"label\"],axis=1)\n",
    "Y=label_data[\"label\"]\n"
   ]
  },
  {
   "cell_type": "code",
   "execution_count": null,
   "metadata": {},
   "outputs": [],
   "source": []
  },
  {
   "cell_type": "code",
   "execution_count": null,
   "metadata": {},
   "outputs": [],
   "source": []
  },
  {
   "cell_type": "code",
   "execution_count": null,
   "metadata": {},
   "outputs": [],
   "source": []
  },
  {
   "cell_type": "code",
   "execution_count": 12,
   "metadata": {},
   "outputs": [
    {
     "data": {
      "text/plain": [
       "Text(0.5,1,'number of classes')"
      ]
     },
     "execution_count": 12,
     "metadata": {},
     "output_type": "execute_result"
    },
    {
     "data": {
      "image/png": "[encoded data removed]",
      "text/plain": [
       "<Figure size 432x288 with 1 Axes>"
      ]
     },
     "metadata": {},
     "output_type": "display_data"
    }
   ],
   "source": [
    "s =sns.countplot(Y ,palette = \"icefire\")\n",
    "plt.title(\"number of classes\")\n"
   ]
  },
  {
   "cell_type": "code",
   "execution_count": null,
   "metadata": {},
   "outputs": [],
   "source": []
  },
  {
   "cell_type": "code",
   "execution_count": null,
   "metadata": {},
   "outputs": [],
   "source": []
  },
  {
   "cell_type": "code",
   "execution_count": null,
   "metadata": {},
   "outputs": [],
   "source": []
  },
  {
   "cell_type": "code",
   "execution_count": 13,
   "metadata": {},
   "outputs": [
    {
     "data": {
      "text/plain": [
       "1    4684\n",
       "7    4401\n",
       "3    4351\n",
       "9    4188\n",
       "2    4177\n",
       "6    4137\n",
       "0    4132\n",
       "4    4072\n",
       "8    4063\n",
       "5    3795\n",
       "Name: label, dtype: int64"
      ]
     },
     "execution_count": 13,
     "metadata": {},
     "output_type": "execute_result"
    }
   ],
   "source": [
    "Y.value_counts()"
   ]
  },
  {
   "cell_type": "code",
   "execution_count": null,
   "metadata": {},
   "outputs": [],
   "source": []
  },
  {
   "cell_type": "code",
   "execution_count": null,
   "metadata": {},
   "outputs": [],
   "source": []
  },
  {
   "cell_type": "code",
   "execution_count": null,
   "metadata": {},
   "outputs": [],
   "source": []
  },
  {
   "cell_type": "code",
   "execution_count": 14,
   "metadata": {},
   "outputs": [
    {
     "name": "stderr",
     "output_type": "stream",
     "text": [
      "C:\\Users\\M.Ehsaan Ahmed\\Anaconda3\\envs\\py35\\lib\\site-packages\\ipykernel_launcher.py:1: FutureWarning: Method .as_matrix will be removed in a future version. Use .values instead.\n",
      "  \"\"\"Entry point for launching an IPython kernel.\n"
     ]
    },
    {
     "data": {
      "image/png": "[encoded data removed]",
      "text/plain": [
       "<Figure size 432x288 with 1 Axes>"
      ]
     },
     "metadata": {},
     "output_type": "display_data"
    }
   ],
   "source": [
    "img =X.iloc[1].as_matrix()\n",
    "img=img.reshape(28,28)\n",
    "plt.imshow(img,cmap='gray')\n",
    "plt.show()"
   ]
  },
  {
   "cell_type": "code",
   "execution_count": null,
   "metadata": {},
   "outputs": [],
   "source": []
  },
  {
   "cell_type": "code",
   "execution_count": null,
   "metadata": {},
   "outputs": [],
   "source": []
  },
  {
   "cell_type": "code",
   "execution_count": null,
   "metadata": {},
   "outputs": [],
   "source": []
  },
  {
   "cell_type": "code",
   "execution_count": 15,
   "metadata": {},
   "outputs": [
    {
     "name": "stderr",
     "output_type": "stream",
     "text": [
      "C:\\Users\\M.Ehsaan Ahmed\\Anaconda3\\envs\\py35\\lib\\site-packages\\ipykernel_launcher.py:1: FutureWarning: Method .as_matrix will be removed in a future version. Use .values instead.\n",
      "  \"\"\"Entry point for launching an IPython kernel.\n"
     ]
    },
    {
     "data": {
      "image/png": "[encoded data removed]",
      "text/plain": [
       "<Figure size 432x288 with 1 Axes>"
      ]
     },
     "metadata": {},
     "output_type": "display_data"
    }
   ],
   "source": [
    "img=X.iloc[8].as_matrix()\n",
    "img=img.reshape(28,28)\n",
    "plt.imshow(img,cmap='gray')\n",
    "plt.show()"
   ]
  },
  {
   "cell_type": "code",
   "execution_count": null,
   "metadata": {},
   "outputs": [],
   "source": []
  },
  {
   "cell_type": "code",
   "execution_count": null,
   "metadata": {},
   "outputs": [],
   "source": []
  },
  {
   "cell_type": "code",
   "execution_count": null,
   "metadata": {},
   "outputs": [],
   "source": []
  },
  {
   "cell_type": "code",
   "execution_count": 16,
   "metadata": {},
   "outputs": [
    {
     "data": {
      "text/plain": [
       "pixel0        0\n",
       "pixel1        0\n",
       "pixel2        0\n",
       "pixel3        0\n",
       "pixel4        0\n",
       "pixel5        0\n",
       "pixel6        0\n",
       "pixel7        0\n",
       "pixel8        0\n",
       "pixel9        0\n",
       "pixel10       0\n",
       "pixel11       0\n",
       "pixel12     116\n",
       "pixel13     254\n",
       "pixel14     216\n",
       "pixel15       9\n",
       "pixel16       0\n",
       "pixel17       0\n",
       "pixel18       0\n",
       "pixel19       0\n",
       "pixel20       0\n",
       "pixel21       0\n",
       "pixel22       0\n",
       "pixel23       0\n",
       "pixel24       0\n",
       "pixel25       0\n",
       "pixel26       0\n",
       "pixel27       0\n",
       "pixel28       0\n",
       "pixel29       0\n",
       "           ... \n",
       "pixel754      0\n",
       "pixel755      0\n",
       "pixel756      0\n",
       "pixel757      0\n",
       "pixel758      0\n",
       "pixel759      0\n",
       "pixel760      0\n",
       "pixel761    177\n",
       "pixel762    231\n",
       "pixel763    253\n",
       "pixel764    254\n",
       "pixel765    254\n",
       "pixel766    255\n",
       "pixel767    255\n",
       "pixel768    255\n",
       "pixel769    255\n",
       "pixel770    255\n",
       "pixel771    255\n",
       "pixel772    255\n",
       "pixel773    255\n",
       "pixel774    254\n",
       "pixel775    254\n",
       "pixel776    253\n",
       "pixel777    253\n",
       "pixel778    254\n",
       "pixel779     62\n",
       "pixel780      0\n",
       "pixel781      0\n",
       "pixel782      0\n",
       "pixel783      0\n",
       "Length: 784, dtype: int64"
      ]
     },
     "execution_count": 16,
     "metadata": {},
     "output_type": "execute_result"
    }
   ],
   "source": [
    "X.min()\n",
    "X.max()"
   ]
  },
  {
   "cell_type": "code",
   "execution_count": null,
   "metadata": {},
   "outputs": [],
   "source": []
  },
  {
   "cell_type": "code",
   "execution_count": null,
   "metadata": {},
   "outputs": [],
   "source": []
  },
  {
   "cell_type": "code",
   "execution_count": null,
   "metadata": {},
   "outputs": [],
   "source": []
  },
  {
   "cell_type": "code",
   "execution_count": 17,
   "metadata": {},
   "outputs": [
    {
     "data": {
      "text/plain": [
       "pixel0       0.000000\n",
       "pixel1       0.000000\n",
       "pixel2       0.000000\n",
       "pixel3       0.000000\n",
       "pixel4       0.000000\n",
       "pixel5       0.000000\n",
       "pixel6       0.000000\n",
       "pixel7       0.000000\n",
       "pixel8       0.000000\n",
       "pixel9       0.000000\n",
       "pixel10      0.000000\n",
       "pixel11      0.000000\n",
       "pixel12      0.568120\n",
       "pixel13      1.626927\n",
       "pixel14      1.053972\n",
       "pixel15      0.043916\n",
       "pixel16      0.000000\n",
       "pixel17      0.000000\n",
       "pixel18      0.000000\n",
       "pixel19      0.000000\n",
       "pixel20      0.000000\n",
       "pixel21      0.000000\n",
       "pixel22      0.000000\n",
       "pixel23      0.000000\n",
       "pixel24      0.000000\n",
       "pixel25      0.000000\n",
       "pixel26      0.000000\n",
       "pixel27      0.000000\n",
       "pixel28      0.000000\n",
       "pixel29      0.000000\n",
       "              ...    \n",
       "pixel754     0.000000\n",
       "pixel755     0.000000\n",
       "pixel756     0.000000\n",
       "pixel757     0.000000\n",
       "pixel758     0.000000\n",
       "pixel759     0.000000\n",
       "pixel760     0.000000\n",
       "pixel761     0.949803\n",
       "pixel762     2.350859\n",
       "pixel763     3.934280\n",
       "pixel764     4.543583\n",
       "pixel765     5.856772\n",
       "pixel766     7.219742\n",
       "pixel767     8.928286\n",
       "pixel768    10.004069\n",
       "pixel769    10.129595\n",
       "pixel770    11.254931\n",
       "pixel771    10.696030\n",
       "pixel772     9.480066\n",
       "pixel773     7.950251\n",
       "pixel774     6.312890\n",
       "pixel775     4.633819\n",
       "pixel776     3.274488\n",
       "pixel777     1.759870\n",
       "pixel778     1.894498\n",
       "pixel779     0.414264\n",
       "pixel780     0.000000\n",
       "pixel781     0.000000\n",
       "pixel782     0.000000\n",
       "pixel783     0.000000\n",
       "Length: 784, dtype: float64"
      ]
     },
     "execution_count": 17,
     "metadata": {},
     "output_type": "execute_result"
    }
   ],
   "source": [
    "X.mean()\n",
    "X.std()"
   ]
  },
  {
   "cell_type": "code",
   "execution_count": null,
   "metadata": {},
   "outputs": [],
   "source": []
  },
  {
   "cell_type": "code",
   "execution_count": null,
   "metadata": {},
   "outputs": [],
   "source": []
  },
  {
   "cell_type": "code",
   "execution_count": null,
   "metadata": {},
   "outputs": [],
   "source": []
  },
  {
   "cell_type": "code",
   "execution_count": 18,
   "metadata": {},
   "outputs": [
    {
     "data": {
      "text/plain": [
       "pixel0        0\n",
       "pixel1        0\n",
       "pixel2        0\n",
       "pixel3        0\n",
       "pixel4        0\n",
       "pixel5        0\n",
       "pixel6        0\n",
       "pixel7        0\n",
       "pixel8        0\n",
       "pixel9        0\n",
       "pixel10       0\n",
       "pixel11       0\n",
       "pixel12       0\n",
       "pixel13       0\n",
       "pixel14       0\n",
       "pixel15       0\n",
       "pixel16       0\n",
       "pixel17       0\n",
       "pixel18       0\n",
       "pixel19       0\n",
       "pixel20       0\n",
       "pixel21       0\n",
       "pixel22       0\n",
       "pixel23       0\n",
       "pixel24       0\n",
       "pixel25       0\n",
       "pixel26       0\n",
       "pixel27       0\n",
       "pixel28       0\n",
       "pixel29       0\n",
       "           ... \n",
       "pixel754      0\n",
       "pixel755      0\n",
       "pixel756      0\n",
       "pixel757      0\n",
       "pixel758      0\n",
       "pixel759      0\n",
       "pixel760     94\n",
       "pixel761    252\n",
       "pixel762    245\n",
       "pixel763    254\n",
       "pixel764    254\n",
       "pixel765    255\n",
       "pixel766    255\n",
       "pixel767    254\n",
       "pixel768    253\n",
       "pixel769    255\n",
       "pixel770    255\n",
       "pixel771    255\n",
       "pixel772    255\n",
       "pixel773    255\n",
       "pixel774    253\n",
       "pixel775    254\n",
       "pixel776    193\n",
       "pixel777    187\n",
       "pixel778    119\n",
       "pixel779      0\n",
       "pixel780      0\n",
       "pixel781      0\n",
       "pixel782      0\n",
       "pixel783      0\n",
       "Length: 784, dtype: int64"
      ]
     },
     "execution_count": 18,
     "metadata": {},
     "output_type": "execute_result"
    }
   ],
   "source": [
    "test.min()\n",
    "test.max()"
   ]
  },
  {
   "cell_type": "code",
   "execution_count": null,
   "metadata": {},
   "outputs": [],
   "source": []
  },
  {
   "cell_type": "code",
   "execution_count": null,
   "metadata": {},
   "outputs": [],
   "source": []
  },
  {
   "cell_type": "code",
   "execution_count": null,
   "metadata": {},
   "outputs": [],
   "source": []
  },
  {
   "cell_type": "code",
   "execution_count": 19,
   "metadata": {},
   "outputs": [
    {
     "name": "stdout",
     "output_type": "stream",
     "text": [
      "trainshape  (42000, 784)\n",
      "testshape (28000, 784)\n"
     ]
    }
   ],
   "source": [
    "X = X /255.0 \n",
    "test= test/255.0 # Normalization to shape an images \n",
    "\n",
    "print(\"trainshape \",X.shape)\n",
    "print(\"testshape\",test.shape)"
   ]
  },
  {
   "cell_type": "code",
   "execution_count": null,
   "metadata": {},
   "outputs": [],
   "source": []
  },
  {
   "cell_type": "code",
   "execution_count": null,
   "metadata": {},
   "outputs": [],
   "source": []
  },
  {
   "cell_type": "code",
   "execution_count": null,
   "metadata": {},
   "outputs": [],
   "source": []
  },
  {
   "cell_type": "code",
   "execution_count": 20,
   "metadata": {},
   "outputs": [
    {
     "name": "stdout",
     "output_type": "stream",
     "text": [
      "shapes of train image  (42000, 28, 28, 1)\n",
      "shapes of test images (28000, 28, 28, 1)\n"
     ]
    }
   ],
   "source": [
    "X=X.values.reshape(-1,28,28,1)\n",
    "test=test.values.reshape(-1,28,28,1)\n",
    "print(\"shapes of train image \",X.shape)\n",
    "print(\"shapes of test images\",test.shape)"
   ]
  },
  {
   "cell_type": "code",
   "execution_count": null,
   "metadata": {},
   "outputs": [],
   "source": []
  },
  {
   "cell_type": "code",
   "execution_count": null,
   "metadata": {},
   "outputs": [],
   "source": []
  },
  {
   "cell_type": "code",
   "execution_count": null,
   "metadata": {},
   "outputs": [],
   "source": []
  },
  {
   "cell_type": "code",
   "execution_count": 21,
   "metadata": {},
   "outputs": [
    {
     "name": "stderr",
     "output_type": "stream",
     "text": [
      "C:\\Users\\M.Ehsaan Ahmed\\Anaconda3\\envs\\py35\\lib\\site-packages\\h5py\\__init__.py:36: FutureWarning: Conversion of the second argument of issubdtype from `float` to `np.floating` is deprecated. In future, it will be treated as `np.float64 == np.dtype(float).type`.\n",
      "  from ._conv import register_converters as _register_converters\n",
      "Using TensorFlow backend.\n"
     ]
    }
   ],
   "source": [
    " from keras.utils.np_utils import to_categorical\n",
    "Y=to_categorical(Y,num_classes=10)"
   ]
  },
  {
   "cell_type": "code",
   "execution_count": null,
   "metadata": {},
   "outputs": [],
   "source": []
  },
  {
   "cell_type": "code",
   "execution_count": null,
   "metadata": {},
   "outputs": [],
   "source": []
  },
  {
   "cell_type": "code",
   "execution_count": null,
   "metadata": {},
   "outputs": [],
   "source": []
  },
  {
   "cell_type": "code",
   "execution_count": 22,
   "metadata": {},
   "outputs": [
    {
     "name": "stdout",
     "output_type": "stream",
     "text": [
      "<class 'pandas.core.frame.DataFrame'>\n",
      "RangeIndex: 42000 entries, 0 to 41999\n",
      "Columns: 785 entries, label to pixel783\n",
      "dtypes: int64(785)\n",
      "memory usage: 251.5 MB\n",
      "None\n"
     ]
    }
   ],
   "source": [
    "print(train.info())\n"
   ]
  },
  {
   "cell_type": "code",
   "execution_count": null,
   "metadata": {},
   "outputs": [],
   "source": []
  },
  {
   "cell_type": "code",
   "execution_count": null,
   "metadata": {},
   "outputs": [],
   "source": []
  },
  {
   "cell_type": "code",
   "execution_count": null,
   "metadata": {},
   "outputs": [],
   "source": []
  },
  {
   "cell_type": "code",
   "execution_count": null,
   "metadata": {},
   "outputs": [],
   "source": []
  },
  {
   "cell_type": "code",
   "execution_count": 23,
   "metadata": {},
   "outputs": [
    {
     "name": "stdout",
     "output_type": "stream",
     "text": [
      "[]\n"
     ]
    }
   ],
   "source": [
    "s=(train.dtypes==\"object\")\n",
    "s=list(s[s].index)\n",
    "print(s)"
   ]
  },
  {
   "cell_type": "code",
   "execution_count": null,
   "metadata": {},
   "outputs": [],
   "source": []
  },
  {
   "cell_type": "code",
   "execution_count": null,
   "metadata": {},
   "outputs": [],
   "source": []
  },
  {
   "cell_type": "code",
   "execution_count": null,
   "metadata": {},
   "outputs": [],
   "source": []
  },
  {
   "cell_type": "code",
   "execution_count": 24,
   "metadata": {},
   "outputs": [
    {
     "name": "stdout",
     "output_type": "stream",
     "text": [
      "X Train Shape (37800, 28, 28, 1)\n",
      "X Test shape  (4200, 28, 28, 1)\n",
      "Y train shape  (37800, 10)\n",
      "Y test shape (4200, 10)\n"
     ]
    }
   ],
   "source": [
    "from sklearn.model_selection import train_test_split\n",
    "X_train,X_test,Y_train,Y_test =train_test_split(X,Y, test_size=0.1)\n",
    "print(\"X Train Shape\",X_train.shape)\n",
    "print(\"X Test shape \",X_test.shape)\n",
    "print(\"Y train shape \",Y_train.shape)\n",
    "print(\"Y test shape\",Y_test.shape)"
   ]
  },
  {
   "cell_type": "code",
   "execution_count": null,
   "metadata": {},
   "outputs": [],
   "source": []
  },
  {
   "cell_type": "code",
   "execution_count": null,
   "metadata": {},
   "outputs": [],
   "source": []
  },
  {
   "cell_type": "code",
   "execution_count": null,
   "metadata": {},
   "outputs": [],
   "source": []
  },
  {
   "cell_type": "code",
   "execution_count": 25,
   "metadata": {},
   "outputs": [],
   "source": [
    "from sklearn.metrics import confusion_matrix\n",
    "import itertools\n",
    "from keras.utils.np_utils import to_categorical \n",
    "from keras.models import Sequential \n",
    "from keras.layers import Dense ,Dropout,Flatten,Conv2D,MaxPool2D\n",
    "from keras.optimizers import RMSprop,Adam\n",
    "from keras.preprocessing.image import ImageDataGenerator\n",
    "from keras.callbacks import ReduceLROnPlateau\n",
    "\n",
    "model = Sequential()\n",
    "model.add(Conv2D(filters=8 ,kernel_size=(5,5),padding ='same' ,activation ='relu',input_shape=(28,28,1)))\n",
    "model.add(MaxPool2D(pool_size=(2,2)))\n",
    "model.add(Conv2D(filters=16,kernel_size=(3,3),padding='same',activation='relu'))\n",
    "model.add(MaxPool2D(pool_size=(2,2),strides=(2,2)))\n",
    "model.add(Dropout(0.25))\n",
    "model.add(Flatten())\n",
    "model.add(Dense(256,activation='relu'))\n",
    "model.add(Dropout(0.5))\n",
    "model.add(Dense(10,activation='softmax'))"
   ]
  },
  {
   "cell_type": "code",
   "execution_count": null,
   "metadata": {},
   "outputs": [],
   "source": []
  },
  {
   "cell_type": "code",
   "execution_count": null,
   "metadata": {},
   "outputs": [],
   "source": []
  },
  {
   "cell_type": "code",
   "execution_count": 26,
   "metadata": {},
   "outputs": [],
   "source": [
    "optimizer = Adam(lr=0.001,beta_1=0.9,beta_2=0.999)\n"
   ]
  },
  {
   "cell_type": "code",
   "execution_count": null,
   "metadata": {},
   "outputs": [],
   "source": []
  },
  {
   "cell_type": "code",
   "execution_count": null,
   "metadata": {},
   "outputs": [],
   "source": []
  },
  {
   "cell_type": "code",
   "execution_count": 27,
   "metadata": {},
   "outputs": [],
   "source": [
    "model.compile(optimizer=optimizer,loss=\"categorical_crossentropy\",metrics=[\"accuracy\"])"
   ]
  },
  {
   "cell_type": "code",
   "execution_count": null,
   "metadata": {},
   "outputs": [],
   "source": []
  },
  {
   "cell_type": "code",
   "execution_count": null,
   "metadata": {},
   "outputs": [],
   "source": []
  },
  {
   "cell_type": "code",
   "execution_count": 28,
   "metadata": {},
   "outputs": [
    {
     "data": {
      "image/png": "[encoded data removed]",
      "text/plain": [
       "<Figure size 432x288 with 1 Axes>"
      ]
     },
     "metadata": {},
     "output_type": "display_data"
    }
   ],
   "source": [
    "epochs=10\n",
    "batch_size=250\n",
    "plt.imshow(X_train[2][:,:,0],cmap='gray')\n",
    "plt.show()"
   ]
  },
  {
   "cell_type": "code",
   "execution_count": null,
   "metadata": {},
   "outputs": [],
   "source": []
  },
  {
   "cell_type": "code",
   "execution_count": null,
   "metadata": {},
   "outputs": [],
   "source": []
  },
  {
   "cell_type": "code",
   "execution_count": null,
   "metadata": {},
   "outputs": [],
   "source": []
  },
  {
   "cell_type": "code",
   "execution_count": 29,
   "metadata": {},
   "outputs": [],
   "source": [
    "datagen = ImageDataGenerator(\n",
    "        featurewise_center=False,  # set input mean to 0 over the dataset\n",
    "        samplewise_center=False,  # set each sample mean to 0\n",
    "        featurewise_std_normalization=False,  # divide inputs by std of the dataset\n",
    "        samplewise_std_normalization=False,  # divide each input by its std\n",
    "        zca_whitening=False,  # dimesion reduction\n",
    "        rotation_range=5,  # randomly rotate images in the range 5 degrees\n",
    "        zoom_range = 0.1, # Randomly zoom image 10%\n",
    "        width_shift_range=0.1,  # randomly shift images horizontally 10%\n",
    "        height_shift_range=0.1,  # randomly shift images vertically 10%\n",
    "        horizontal_flip=False,  # randomly flip images\n",
    "        vertical_flip=False )  # randomly flip images\n",
    "datagen.fit(X_train)"
   ]
  },
  {
   "cell_type": "code",
   "execution_count": null,
   "metadata": {},
   "outputs": [],
   "source": []
  },
  {
   "cell_type": "code",
   "execution_count": 30,
   "metadata": {},
   "outputs": [
    {
     "name": "stdout",
     "output_type": "stream",
     "text": [
      "Epoch 1/10\n",
      "151/151 [==============================] - 51s 339ms/step - loss: 0.9769 - acc: 0.6827 - val_loss: 0.1712 - val_acc: 0.9517\n",
      "Epoch 2/10\n",
      "151/151 [==============================] - 49s 322ms/step - loss: 0.3225 - acc: 0.9013 - val_loss: 0.1061 - val_acc: 0.9664\n",
      "Epoch 3/10\n",
      "151/151 [==============================] - 58s 382ms/step - loss: 0.2424 - acc: 0.9252 - val_loss: 0.0855 - val_acc: 0.9743\n",
      "Epoch 4/10\n",
      "151/151 [==============================] - 51s 338ms/step - loss: 0.1984 - acc: 0.9397 - val_loss: 0.0730 - val_acc: 0.9790\n",
      "Epoch 5/10\n",
      "151/151 [==============================] - 49s 324ms/step - loss: 0.1718 - acc: 0.9468 - val_loss: 0.0719 - val_acc: 0.9781\n",
      "Epoch 6/10\n",
      "151/151 [==============================] - 55s 366ms/step - loss: 0.1608 - acc: 0.9511 - val_loss: 0.0656 - val_acc: 0.9814\n",
      "Epoch 7/10\n",
      "151/151 [==============================] - 60s 399ms/step - loss: 0.1449 - acc: 0.9550 - val_loss: 0.0600 - val_acc: 0.9831\n",
      "Epoch 8/10\n",
      "151/151 [==============================] - 54s 359ms/step - loss: 0.1330 - acc: 0.9592 - val_loss: 0.0598 - val_acc: 0.9812\n",
      "Epoch 9/10\n",
      "151/151 [==============================] - 52s 347ms/step - loss: 0.1287 - acc: 0.9610 - val_loss: 0.0533 - val_acc: 0.9840\n",
      "Epoch 10/10\n",
      "151/151 [==============================] - 48s 321ms/step - loss: 0.1173 - acc: 0.9642 - val_loss: 0.0524 - val_acc: 0.9862\n"
     ]
    }
   ],
   "source": [
    "history=model.fit_generator(datagen.flow(X_train,Y_train,batch_size=batch_size),\n",
    "        epochs = epochs, validation_data = (X_test,Y_test), steps_per_epoch=X_train.shape[0] // batch_size)\n"
   ]
  },
  {
   "cell_type": "code",
   "execution_count": null,
   "metadata": {},
   "outputs": [],
   "source": []
  },
  {
   "cell_type": "code",
   "execution_count": 31,
   "metadata": {},
   "outputs": [
    {
     "data": {
      "image/png": "[encoded data removed]",
      "text/plain": [
       "<Figure size 432x288 with 1 Axes>"
      ]
     },
     "metadata": {},
     "output_type": "display_data"
    }
   ],
   "source": [
    "plt.plot(history.history['val_loss'],color='b',label=\"validation loss\")\n",
    "plt.title(\"test loss\")\n",
    "plt.xlabel(\"number of epoches\")\n",
    "plt.ylabel(\"loss\")\n",
    "plt.legend()\n",
    "plt.show()"
   ]
  },
  {
   "cell_type": "code",
   "execution_count": null,
   "metadata": {},
   "outputs": [],
   "source": []
  },
  {
   "cell_type": "code",
   "execution_count": 32,
   "metadata": {},
   "outputs": [
    {
     "data": {
      "image/png": "[encoded data removed]",
      "text/plain": [
       "<Figure size 576x576 with 2 Axes>"
      ]
     },
     "metadata": {},
     "output_type": "display_data"
    }
   ],
   "source": [
    "import seaborn as sns\n",
    "Y_pred = model.predict(X_test)\n",
    "Y_pred_classes=np.argmax(Y_pred, axis=1)\n",
    "Y_true=np.argmax(Y_test , axis=1)\n",
    "confusion =confusion_matrix(Y_pred_classes,Y_true)\n",
    "f,ax = plt.subplots(figsize=(8, 8))\n",
    "sns.heatmap(confusion, annot=True, linewidths=0.01,cmap=\"Greens\",linecolor=\"gray\", fmt= '.1f',ax=ax)\n",
    "plt.xlabel(\"Predicted Label\")\n",
    "plt.ylabel(\"True Label\")\n",
    "plt.title(\"Confusion Matrix\")\n",
    "plt.show()"
   ]
  },
  {
   "cell_type": "code",
   "execution_count": null,
   "metadata": {},
   "outputs": [],
   "source": []
  },
  {
   "cell_type": "code",
   "execution_count": 33,
   "metadata": {},
   "outputs": [
    {
     "name": "stdout",
     "output_type": "stream",
     "text": [
      "_________________________________________________________________\n",
      "Layer (type)                 Output Shape              Param #   \n",
      "=================================================================\n",
      "conv2d_1 (Conv2D)            (None, 28, 28, 8)         208       \n",
      "_________________________________________________________________\n",
      "max_pooling2d_1 (MaxPooling2 (None, 14, 14, 8)         0         \n",
      "_________________________________________________________________\n",
      "conv2d_2 (Conv2D)            (None, 14, 14, 16)        1168      \n",
      "_________________________________________________________________\n",
      "max_pooling2d_2 (MaxPooling2 (None, 7, 7, 16)          0         \n",
      "_________________________________________________________________\n",
      "dropout_1 (Dropout)          (None, 7, 7, 16)          0         \n",
      "_________________________________________________________________\n",
      "flatten_1 (Flatten)          (None, 784)               0         \n",
      "_________________________________________________________________\n",
      "dense_1 (Dense)              (None, 256)               200960    \n",
      "_________________________________________________________________\n",
      "dropout_2 (Dropout)          (None, 256)               0         \n",
      "_________________________________________________________________\n",
      "dense_2 (Dense)              (None, 10)                2570      \n",
      "=================================================================\n",
      "Total params: 204,906\n",
      "Trainable params: 204,906\n",
      "Non-trainable params: 0\n",
      "_________________________________________________________________\n"
     ]
    }
   ],
   "source": [
    "model.summary()"
   ]
  },
  {
   "cell_type": "code",
   "execution_count": 34,
   "metadata": {},
   "outputs": [
    {
     "data": {
      "text/plain": [
       "[array([[[[-6.35097697e-02,  2.31524095e-01, -3.51463586e-01,\n",
       "           -3.36029977e-02,  2.78679550e-01,  2.34764311e-02,\n",
       "           -3.35443020e-02,  2.86504775e-01]],\n",
       " \n",
       "         [[-2.42503099e-02,  3.27102505e-02, -1.51391581e-01,\n",
       "            2.73216311e-02, -3.27701867e-02,  1.64502308e-01,\n",
       "           -2.12246552e-01,  2.50907958e-01]],\n",
       " \n",
       "         [[-1.31838590e-01, -1.13766581e-01, -2.76732594e-01,\n",
       "            1.50544541e-02,  1.11046642e-01, -2.28062376e-01,\n",
       "            1.29117919e-02,  1.79122493e-01]],\n",
       " \n",
       "         [[-2.42723860e-02, -1.94468871e-01, -6.25995398e-02,\n",
       "            2.38265712e-02, -4.03507501e-02, -2.63835222e-01,\n",
       "           -5.05036227e-02,  8.35467363e-05]],\n",
       " \n",
       "         [[-2.44065747e-02, -1.78863242e-01, -1.20623253e-01,\n",
       "            1.88128650e-02, -2.09588036e-01, -1.62133723e-01,\n",
       "            1.26320362e-01, -7.63126314e-02]]],\n",
       " \n",
       " \n",
       "        [[[-2.68151481e-02,  1.21996626e-01, -3.81735384e-01,\n",
       "            1.47218341e-02,  1.49728522e-01,  3.27193081e-01,\n",
       "            6.15507290e-02,  1.42537221e-01]],\n",
       " \n",
       "         [[-1.43099368e-01,  7.43774921e-02, -2.86405593e-01,\n",
       "            4.26264852e-02,  2.20953539e-01, -5.52215092e-02,\n",
       "            9.44258124e-02,  7.94193968e-02]],\n",
       " \n",
       "         [[-2.79876143e-01, -3.03075300e-03, -1.17877647e-01,\n",
       "            9.88370925e-02, -6.29227459e-02, -1.76071107e-01,\n",
       "            1.53769076e-01,  2.69805528e-02]],\n",
       " \n",
       "         [[-2.84208488e-02, -1.23404972e-01, -1.31297961e-01,\n",
       "           -2.48062313e-02, -1.82646200e-01, -3.02963734e-01,\n",
       "            1.50439486e-01,  1.77988276e-01]],\n",
       " \n",
       "         [[-1.52266115e-01, -2.06858799e-01,  1.62042663e-01,\n",
       "           -3.60756405e-02,  1.00998051e-01, -1.46421045e-01,\n",
       "           -4.19507809e-02,  1.29877195e-01]]],\n",
       " \n",
       " \n",
       "        [[[ 1.92347035e-01,  2.73220181e-01, -2.33971044e-01,\n",
       "            1.30319204e-02,  2.78448313e-01,  1.61300302e-01,\n",
       "            1.76571116e-01,  1.14040717e-01]],\n",
       " \n",
       "         [[-1.48556635e-01,  2.35169321e-01,  6.11244589e-02,\n",
       "            2.64396638e-01,  1.79743260e-01, -2.54937977e-01,\n",
       "            2.75278836e-01,  2.06785649e-01]],\n",
       " \n",
       "         [[-3.88603061e-02,  2.43347690e-01, -5.30523546e-02,\n",
       "            3.32031772e-02, -6.41642064e-02, -3.74413103e-01,\n",
       "            2.35871058e-02,  9.46660861e-02]],\n",
       " \n",
       "         [[-2.68699788e-02,  3.09396815e-02,  1.47105739e-01,\n",
       "            1.99109226e-01,  1.10662401e-01, -1.19848512e-01,\n",
       "            3.23194787e-02,  1.67402968e-01]],\n",
       " \n",
       "         [[-1.08402096e-01,  1.23010986e-01,  1.17229648e-01,\n",
       "           -1.62580192e-01, -2.69540027e-03,  1.28704309e-01,\n",
       "            1.70765191e-01, -1.05034322e-01]]],\n",
       " \n",
       " \n",
       "        [[[-6.72549382e-02,  6.01205453e-02, -1.56640396e-01,\n",
       "           -3.35289687e-02,  1.31627962e-01, -5.05542532e-02,\n",
       "            7.33387619e-02,  1.03939243e-01]],\n",
       " \n",
       "         [[ 2.49776393e-01,  1.19370511e-02,  3.88852996e-03,\n",
       "            1.06430106e-01, -2.13018749e-02, -3.33440900e-01,\n",
       "            1.00916713e-01,  1.15466878e-01]],\n",
       " \n",
       "         [[ 1.40253261e-01,  2.22495645e-01,  3.90788503e-02,\n",
       "            1.16979308e-01, -5.04670069e-02, -1.83731765e-01,\n",
       "           -5.86295454e-03, -2.77403221e-02]],\n",
       " \n",
       "         [[ 1.72522768e-01,  1.32751495e-01,  1.53544292e-01,\n",
       "            1.15570977e-01,  7.12776482e-02,  1.19053006e-01,\n",
       "            1.94908548e-02, -1.26674339e-01]],\n",
       " \n",
       "         [[ 2.64106959e-01,  3.15128088e-01,  1.15978070e-01,\n",
       "           -1.49088696e-01,  1.50597215e-01,  1.33921549e-01,\n",
       "            7.10778544e-03, -3.11724365e-01]]],\n",
       " \n",
       " \n",
       "        [[[ 1.34524807e-01,  6.00435622e-02,  7.66061321e-02,\n",
       "           -1.38702169e-02,  2.13694766e-01, -3.19760948e-01,\n",
       "           -2.97010064e-01,  9.84813320e-04]],\n",
       " \n",
       "         [[ 1.13659024e-01, -4.63768803e-02,  1.56792685e-01,\n",
       "            2.77855575e-01,  2.06556976e-01, -1.69346020e-01,\n",
       "           -2.62702852e-01, -5.97008318e-02]],\n",
       " \n",
       "         [[ 1.94574401e-01, -3.22625488e-02,  2.17800498e-01,\n",
       "            1.69538677e-01,  2.80073583e-01,  1.01953000e-02,\n",
       "           -2.06556901e-01, -1.20433368e-01]],\n",
       " \n",
       "         [[ 5.84849305e-02,  7.21620843e-02,  2.98329562e-01,\n",
       "            1.45064309e-01,  1.53585508e-01,  3.48461010e-02,\n",
       "           -1.60085604e-01, -2.71700650e-01]],\n",
       " \n",
       "         [[ 9.14706960e-02,  1.56912774e-01,  1.93642929e-01,\n",
       "           -1.59056380e-01,  1.66365281e-01,  2.65775919e-01,\n",
       "           -2.34893620e-01, -3.33936393e-01]]]], dtype=float32),\n",
       " array([ 0.00776963,  0.02084816, -0.00084437, -0.07922889, -0.06935354,\n",
       "         0.04427308,  0.00655555,  0.00217555], dtype=float32),\n",
       " array([[[[ 0.1392331 ,  0.03072608, -0.13053143, ...,  0.13206814,\n",
       "           -0.15287451,  0.10086152],\n",
       "          [ 0.1188705 ,  0.07183593,  0.09063451, ...,  0.00125474,\n",
       "           -0.06263006, -0.15784033],\n",
       "          [-0.16257656,  0.10295609, -0.0303623 , ..., -0.14316483,\n",
       "            0.17272742, -0.27141926],\n",
       "          ...,\n",
       "          [ 0.04319825,  0.02724838,  0.25708514, ...,  0.17999768,\n",
       "            0.11426866,  0.01033821],\n",
       "          [-0.16812028, -0.32167822, -0.20936769, ...,  0.11571905,\n",
       "           -0.201568  , -0.02784515],\n",
       "          [-0.18890044, -0.10639988,  0.09338526, ..., -0.15945186,\n",
       "           -0.0823511 ,  0.04569541]],\n",
       " \n",
       "         [[-0.03062232, -0.12758145, -0.24948408, ..., -0.1263907 ,\n",
       "           -0.09371237, -0.11654162],\n",
       "          [-0.05182692,  0.21462192,  0.16210958, ..., -0.23939496,\n",
       "            0.045214  , -0.14531076],\n",
       "          [-0.15423568, -0.02546803, -0.37916106, ..., -0.11976915,\n",
       "            0.04200754, -0.2093506 ],\n",
       "          ...,\n",
       "          [-0.0928333 ,  0.32061332, -0.27402794, ..., -0.0273665 ,\n",
       "            0.26046103, -0.2687709 ],\n",
       "          [-0.0586847 , -0.14472196, -0.10015707, ..., -0.02699945,\n",
       "            0.08556616,  0.04956431],\n",
       "          [-0.19869763,  0.11292249,  0.00085126, ...,  0.10993023,\n",
       "            0.0097261 ,  0.26829705]],\n",
       " \n",
       "         [[-0.09660885, -0.07784922, -0.11004076, ..., -0.02402422,\n",
       "           -0.18561667, -0.31131414],\n",
       "          [-0.1598103 , -0.04330072, -0.23311062, ...,  0.14145632,\n",
       "           -0.1246476 , -0.26262853],\n",
       "          [-0.24249402,  0.13890837, -0.10796918, ..., -0.09881688,\n",
       "            0.12909842, -0.11161818],\n",
       "          ...,\n",
       "          [ 0.09578282,  0.21666557, -0.09456618, ..., -0.1501972 ,\n",
       "            0.11042383, -0.26429915],\n",
       "          [-0.14434488, -0.04031629, -0.16343422, ...,  0.2796706 ,\n",
       "            0.03232558,  0.19333899],\n",
       "          [-0.19344278,  0.13950862, -0.18258105, ...,  0.14688267,\n",
       "            0.24490799,  0.25937554]]],\n",
       " \n",
       " \n",
       "        [[[-0.00971491, -0.14091024,  0.01344859, ...,  0.17497177,\n",
       "            0.02866309,  0.05210039],\n",
       "          [ 0.09815274, -0.18792872,  0.10205363, ...,  0.30905095,\n",
       "            0.10537353,  0.12607276],\n",
       "          [-0.15310834, -0.02685575, -0.08485018, ..., -0.25970608,\n",
       "            0.2964952 ,  0.2806316 ],\n",
       "          ...,\n",
       "          [-0.0771559 ,  0.07949075, -0.0012283 , ..., -0.07137054,\n",
       "            0.24680384,  0.06548928],\n",
       "          [-0.13598774, -0.41283432, -0.16571562, ...,  0.2232027 ,\n",
       "            0.2875717 , -0.13454261],\n",
       "          [-0.01579053, -0.18440773,  0.10675474, ..., -0.10597882,\n",
       "            0.20685981, -0.14174664]],\n",
       " \n",
       "         [[ 0.12108927, -0.18047735, -0.07071343, ...,  0.29529494,\n",
       "           -0.0334759 ,  0.11623597],\n",
       "          [ 0.2563625 ,  0.06079648,  0.17936641, ..., -0.14547142,\n",
       "            0.10945717, -0.07666799],\n",
       "          [-0.02749919,  0.09600911, -0.35660943, ..., -0.13075472,\n",
       "            0.20791174,  0.09476523],\n",
       "          ...,\n",
       "          [-0.28679964,  0.14965944,  0.0320606 , ...,  0.04845968,\n",
       "            0.20267034, -0.06941421],\n",
       "          [-0.02566291, -0.48970088, -0.21798712, ...,  0.16610186,\n",
       "           -0.04126886, -0.00922804],\n",
       "          [-0.09323393,  0.16235276,  0.02887596, ..., -0.25357896,\n",
       "            0.20974125, -0.38294417]],\n",
       " \n",
       "         [[ 0.17224574, -0.06530505,  0.0493115 , ..., -0.10861649,\n",
       "            0.09617852, -0.06981286],\n",
       "          [-0.03980835, -0.03590556, -0.08112942, ..., -0.11791615,\n",
       "           -0.16413815, -0.16104063],\n",
       "          [ 0.13937393,  0.07084253,  0.05022914, ...,  0.05152954,\n",
       "            0.22102289, -0.02900168],\n",
       "          ...,\n",
       "          [-0.09430587, -0.0011631 , -0.04398757, ..., -0.16652927,\n",
       "            0.30366567,  0.01374609],\n",
       "          [-0.11762522, -0.31888324,  0.07156715, ...,  0.13789862,\n",
       "           -0.18507843, -0.3073434 ],\n",
       "          [-0.08950666,  0.10911345, -0.13649078, ..., -0.01672753,\n",
       "            0.2810155 , -0.20914644]]],\n",
       " \n",
       " \n",
       "        [[[-0.02562081, -0.05496313, -0.12178529, ..., -0.00840026,\n",
       "           -0.04909027, -0.11603048],\n",
       "          [ 0.04680367, -0.19517419,  0.08836809, ...,  0.03959589,\n",
       "           -0.02976793, -0.10056148],\n",
       "          [-0.2202017 , -0.12483831, -0.07507469, ..., -0.23218514,\n",
       "            0.24652809,  0.10163593],\n",
       "          ...,\n",
       "          [-0.33177727, -0.09197706, -0.11598352, ..., -0.26564872,\n",
       "            0.32825318,  0.34772727],\n",
       "          [-0.27110663, -0.09235894, -0.21930902, ..., -0.04466641,\n",
       "            0.23865554,  0.09880192],\n",
       "          [-0.04366488, -0.05181474,  0.12722877, ..., -0.1521046 ,\n",
       "            0.19543956,  0.13708961]],\n",
       " \n",
       "         [[-0.03632926, -0.23180221, -0.09734517, ...,  0.12111169,\n",
       "            0.10849986,  0.06840832],\n",
       "          [-0.02191429,  0.12570903, -0.02877575, ...,  0.17743695,\n",
       "           -0.14425041,  0.24069378],\n",
       "          [-0.19436963, -0.03241314, -0.28042433, ..., -0.00715004,\n",
       "            0.12900467,  0.07140009],\n",
       "          ...,\n",
       "          [-0.46263838, -0.13957465,  0.05392724, ..., -0.04219017,\n",
       "            0.25102496,  0.08482432],\n",
       "          [-0.0619319 , -0.3330942 , -0.09330057, ...,  0.17044458,\n",
       "            0.01690864,  0.22824167],\n",
       "          [-0.19064139,  0.0578934 ,  0.10961187, ..., -0.03106028,\n",
       "            0.11506784,  0.05350477]],\n",
       " \n",
       "         [[ 0.13140623,  0.08920803,  0.05312085, ...,  0.13677943,\n",
       "           -0.17477204,  0.20467658],\n",
       "          [ 0.12316316,  0.13791043,  0.12736395, ...,  0.14427702,\n",
       "           -0.17007707,  0.1933662 ],\n",
       "          [ 0.01643163, -0.14499705,  0.03120954, ..., -0.00238059,\n",
       "           -0.14266697,  0.02422098],\n",
       "          ...,\n",
       "          [-0.33466765, -0.50783604,  0.19965808, ..., -0.12410577,\n",
       "            0.07720847, -0.03805291],\n",
       "          [-0.10604311, -0.13915323,  0.07936405, ...,  0.14797005,\n",
       "           -0.0773414 ,  0.05893663],\n",
       "          [-0.00690666, -0.041279  , -0.2218817 , ..., -0.13033804,\n",
       "            0.25236863, -0.08659316]]]], dtype=float32),\n",
       " array([-0.00500062, -0.01897822, -0.03153864,  0.00226883,  0.00163147,\n",
       "        -0.0544874 , -0.11003776, -0.07479551, -0.00624578,  0.01889603,\n",
       "        -0.01426879, -0.04379936, -0.03210985,  0.00197682, -0.07944164,\n",
       "        -0.01144019], dtype=float32),\n",
       " array([[-0.04141958,  0.0643684 ,  0.02300791, ...,  0.09109022,\n",
       "          0.05483437, -0.06476732],\n",
       "        [ 0.07312885,  0.02959984,  0.00940467, ..., -0.02035476,\n",
       "         -0.03009364,  0.01698606],\n",
       "        [ 0.03469229,  0.0792785 , -0.02084852, ..., -0.05762786,\n",
       "         -0.05854033, -0.03181762],\n",
       "        ...,\n",
       "        [ 0.06106757, -0.16038892,  0.10354696, ...,  0.05315501,\n",
       "         -0.0261424 , -0.08980832],\n",
       "        [-0.05867871,  0.00425758, -0.03956404, ...,  0.10201894,\n",
       "          0.03616565,  0.08161052],\n",
       "        [ 0.01211456, -0.00599514,  0.14866248, ...,  0.04645081,\n",
       "          0.09071145,  0.07122052]], dtype=float32),\n",
       " array([-0.01368813, -0.00982835, -0.00673573, -0.03592699,  0.00061432,\n",
       "         0.00103678, -0.01374718, -0.00703828, -0.01425373,  0.0638958 ,\n",
       "        -0.0012426 ,  0.01201505, -0.01050072,  0.01676157, -0.01356662,\n",
       "        -0.04025993, -0.03231382, -0.01719469,  0.0092381 , -0.00151524,\n",
       "         0.06785057,  0.04267024, -0.04159089,  0.06662044,  0.05226514,\n",
       "         0.02829969,  0.03727371,  0.0062353 ,  0.03107782,  0.03516255,\n",
       "         0.03369504, -0.01064563, -0.02023521, -0.02511832, -0.01176123,\n",
       "        -0.0499342 ,  0.01066925,  0.03948642, -0.01529584,  0.05329878,\n",
       "         0.04517463, -0.03814698,  0.00695763, -0.02143281,  0.01048993,\n",
       "         0.01127916, -0.03112312,  0.06379857, -0.01761135, -0.02053751,\n",
       "        -0.01851826,  0.01249994, -0.00818592, -0.047529  ,  0.03259218,\n",
       "        -0.06592259,  0.02935465, -0.00361359, -0.00538557, -0.02562525,\n",
       "         0.04485494,  0.00983409, -0.03776827,  0.00330123,  0.01583723,\n",
       "        -0.01179248, -0.01585558,  0.00198721,  0.02857615,  0.01399481,\n",
       "         0.05205199, -0.00779116, -0.00865594,  0.0378694 ,  0.01655932,\n",
       "        -0.01273311, -0.01158043, -0.02329652, -0.04354943,  0.00594546,\n",
       "         0.02860082,  0.000448  ,  0.05620719,  0.05261754,  0.03034569,\n",
       "         0.02855169, -0.02499444,  0.06739684,  0.02654194,  0.02043387,\n",
       "         0.02114215, -0.0227096 , -0.00659136, -0.03637087, -0.01375366,\n",
       "         0.05571749,  0.00305548,  0.00982722,  0.02934855, -0.00416456,\n",
       "         0.04474331, -0.02120345,  0.0373877 , -0.0012289 ,  0.02626979,\n",
       "        -0.01489608,  0.01977742, -0.00105883,  0.0340385 , -0.00384636,\n",
       "        -0.00016477, -0.02133341, -0.0247183 ,  0.05154668,  0.02273578,\n",
       "         0.04229796,  0.00330698,  0.01733157,  0.02083611,  0.02290835,\n",
       "        -0.01114003,  0.03571357, -0.02096513,  0.01162864, -0.00742067,\n",
       "        -0.02313413, -0.00370731, -0.02624556, -0.02158432,  0.00109936,\n",
       "         0.0158427 ,  0.03786891,  0.00092915, -0.03130433,  0.02712749,\n",
       "        -0.06251263,  0.02873039, -0.02474277,  0.06020258,  0.00983468,\n",
       "        -0.01678527, -0.03213742, -0.02398056,  0.01704497, -0.02600926,\n",
       "        -0.01043419, -0.01578248, -0.04562696,  0.08053345, -0.00371454,\n",
       "        -0.0225205 ,  0.02100951,  0.00018142,  0.04274973,  0.01071604,\n",
       "         0.04937287, -0.00415274, -0.02701836, -0.02518309, -0.00582678,\n",
       "        -0.0170325 ,  0.0004157 , -0.02742131, -0.00796353,  0.06580174,\n",
       "        -0.02594433,  0.05108024,  0.04232541, -0.04632346,  0.04400392,\n",
       "        -0.02554226,  0.00451707, -0.04305094,  0.00539946, -0.00032576,\n",
       "        -0.01711473,  0.02738493,  0.02356553, -0.01587827,  0.06075049,\n",
       "        -0.04371086, -0.02884339,  0.02794382,  0.02043973,  0.00085665,\n",
       "         0.03099748,  0.00048672, -0.0187514 , -0.01977776, -0.02887319,\n",
       "        -0.0173463 , -0.00288712, -0.00431302, -0.04260021, -0.0022578 ,\n",
       "         0.01189262,  0.03378598, -0.02332842,  0.00662589, -0.0168234 ,\n",
       "        -0.01956125, -0.00331932, -0.0100465 , -0.02436263,  0.05420887,\n",
       "         0.00137795,  0.02302645, -0.04220689,  0.0173668 , -0.04064086,\n",
       "         0.04089229,  0.01673882,  0.02117468, -0.03062102, -0.0097003 ,\n",
       "         0.03726106, -0.00164249,  0.04558645,  0.01073511,  0.00859892,\n",
       "         0.04720945, -0.01083125,  0.06145254,  0.01488633,  0.04286409,\n",
       "        -0.01432152,  0.02642881,  0.07338609,  0.02608907,  0.02610643,\n",
       "         0.04194348,  0.00949652, -0.01431   , -0.02968934,  0.00748358,\n",
       "         0.03662734, -0.0137684 , -0.03667942,  0.01623769, -0.01480643,\n",
       "         0.0136657 ,  0.0157501 ,  0.00349023, -0.03906988, -0.01807772,\n",
       "        -0.00496837,  0.03118456, -0.01515549, -0.03470545, -0.0159455 ,\n",
       "        -0.01250711,  0.02593392, -0.01729204, -0.02399553,  0.0012294 ,\n",
       "         0.05321283], dtype=float32),\n",
       " array([[-0.06465697, -0.09667554, -0.07766723, ...,  0.06429462,\n",
       "          0.07065237,  0.1020192 ],\n",
       "        [-0.00332196, -0.08240474,  0.04508284, ..., -0.2636308 ,\n",
       "          0.13047618, -0.12203006],\n",
       "        [ 0.11802565, -0.20949855,  0.15654789, ...,  0.03639939,\n",
       "          0.12694265,  0.11733698],\n",
       "        ...,\n",
       "        [ 0.03681979, -0.18744819,  0.02667741, ...,  0.03083068,\n",
       "         -0.10278055,  0.05061653],\n",
       "        [-0.0262331 , -0.10833988,  0.1033645 , ..., -0.02712797,\n",
       "          0.1371275 ,  0.09533281],\n",
       "        [ 0.11535342,  0.01171308, -0.24242419, ..., -0.27163324,\n",
       "          0.09791223, -0.10860257]], dtype=float32),\n",
       " array([-0.06826917,  0.04549078, -0.02494457, -0.0055047 , -0.00112836,\n",
       "        -0.05414969, -0.09949301, -0.05984323,  0.13656044,  0.0541551 ],\n",
       "       dtype=float32)]"
      ]
     },
     "execution_count": 34,
     "metadata": {},
     "output_type": "execute_result"
    }
   ],
   "source": [
    "model.get_weights()"
   ]
  },
  {
   "cell_type": "code",
   "execution_count": null,
   "metadata": {},
   "outputs": [],
   "source": []
  },
  {
   "cell_type": "code",
   "execution_count": null,
   "metadata": {},
   "outputs": [],
   "source": []
  },
  {
   "cell_type": "code",
   "execution_count": 64,
   "metadata": {},
   "outputs": [],
   "source": []
  },
  {
   "cell_type": "code",
   "execution_count": null,
   "metadata": {},
   "outputs": [],
   "source": []
  },
  {
   "cell_type": "code",
   "execution_count": null,
   "metadata": {},
   "outputs": [],
   "source": []
  },
  {
   "cell_type": "code",
   "execution_count": null,
   "metadata": {},
   "outputs": [],
   "source": []
  },
  {
   "cell_type": "code",
   "execution_count": null,
   "metadata": {},
   "outputs": [],
   "source": []
  },
  {
   "cell_type": "code",
   "execution_count": null,
   "metadata": {},
   "outputs": [],
   "source": []
  },
  {
   "cell_type": "code",
   "execution_count": null,
   "metadata": {},
   "outputs": [],
   "source": []
  },
  {
   "cell_type": "code",
   "execution_count": null,
   "metadata": {},
   "outputs": [],
   "source": []
  },
  {
   "cell_type": "code",
   "execution_count": null,
   "metadata": {},
   "outputs": [],
   "source": []
  },
  {
   "cell_type": "code",
   "execution_count": null,
   "metadata": {},
   "outputs": [],
   "source": []
  },
  {
   "cell_type": "code",
   "execution_count": null,
   "metadata": {},
   "outputs": [],
   "source": []
  },
  {
   "cell_type": "code",
   "execution_count": null,
   "metadata": {},
   "outputs": [],
   "source": []
  },
  {
   "cell_type": "code",
   "execution_count": null,
   "metadata": {},
   "outputs": [],
   "source": []
  },
  {
   "cell_type": "code",
   "execution_count": null,
   "metadata": {},
   "outputs": [],
   "source": []
  },
  {
   "cell_type": "code",
   "execution_count": null,
   "metadata": {},
   "outputs": [],
   "source": []
  },
  {
   "cell_type": "code",
   "execution_count": null,
   "metadata": {},
   "outputs": [],
   "source": []
  },
  {
   "cell_type": "code",
   "execution_count": null,
   "metadata": {},
   "outputs": [],
   "source": []
  },
  {
   "cell_type": "code",
   "execution_count": null,
   "metadata": {},
   "outputs": [],
   "source": []
  },
  {
   "cell_type": "code",
   "execution_count": null,
   "metadata": {},
   "outputs": [],
   "source": []
  },
  {
   "cell_type": "code",
   "execution_count": null,
   "metadata": {},
   "outputs": [],
   "source": []
  },
  {
   "cell_type": "code",
   "execution_count": null,
   "metadata": {},
   "outputs": [],
   "source": []
  },
  {
   "cell_type": "code",
   "execution_count": null,
   "metadata": {},
   "outputs": [],
   "source": []
  },
  {
   "cell_type": "code",
   "execution_count": null,
   "metadata": {},
   "outputs": [],
   "source": []
  },
  {
   "cell_type": "code",
   "execution_count": null,
   "metadata": {},
   "outputs": [],
   "source": []
  },
  {
   "cell_type": "code",
   "execution_count": null,
   "metadata": {},
   "outputs": [],
   "source": []
  },
  {
   "cell_type": "code",
   "execution_count": null,
   "metadata": {},
   "outputs": [],
   "source": []
  },
  {
   "cell_type": "code",
   "execution_count": null,
   "metadata": {},
   "outputs": [],
   "source": []
  },
  {
   "cell_type": "code",
   "execution_count": null,
   "metadata": {},
   "outputs": [],
   "source": []
  },
  {
   "cell_type": "code",
   "execution_count": null,
   "metadata": {},
   "outputs": [],
   "source": []
  },
  {
   "cell_type": "code",
   "execution_count": null,
   "metadata": {},
   "outputs": [],
   "source": []
  },
  {
   "cell_type": "code",
   "execution_count": null,
   "metadata": {},
   "outputs": [],
   "source": []
  },
  {
   "cell_type": "code",
   "execution_count": null,
   "metadata": {},
   "outputs": [],
   "source": []
  },
  {
   "cell_type": "code",
   "execution_count": null,
   "metadata": {},
   "outputs": [],
   "source": []
  },
  {
   "cell_type": "code",
   "execution_count": null,
   "metadata": {},
   "outputs": [],
   "source": []
  },
  {
   "cell_type": "code",
   "execution_count": null,
   "metadata": {},
   "outputs": [],
   "source": []
  },
  {
   "cell_type": "code",
   "execution_count": null,
   "metadata": {},
   "outputs": [],
   "source": []
  },
  {
   "cell_type": "code",
   "execution_count": null,
   "metadata": {},
   "outputs": [],
   "source": []
  },
  {
   "cell_type": "code",
   "execution_count": null,
   "metadata": {},
   "outputs": [],
   "source": []
  },
  {
   "cell_type": "code",
   "execution_count": null,
   "metadata": {},
   "outputs": [],
   "source": []
  },
  {
   "cell_type": "code",
   "execution_count": null,
   "metadata": {},
   "outputs": [],
   "source": []
  },
  {
   "cell_type": "code",
   "execution_count": null,
   "metadata": {},
   "outputs": [],
   "source": []
  },
  {
   "cell_type": "code",
   "execution_count": null,
   "metadata": {},
   "outputs": [],
   "source": []
  },
  {
   "cell_type": "code",
   "execution_count": null,
   "metadata": {},
   "outputs": [],
   "source": []
  },
  {
   "cell_type": "code",
   "execution_count": null,
   "metadata": {},
   "outputs": [],
   "source": []
  },
  {
   "cell_type": "code",
   "execution_count": null,
   "metadata": {},
   "outputs": [],
   "source": []
  },
  {
   "cell_type": "code",
   "execution_count": 56,
   "metadata": {},
   "outputs": [
    {
     "name": "stdout",
     "output_type": "stream",
     "text": [
      "trainshape  (42000, 784)\n"
     ]
    }
   ],
   "source": [
    "\n"
   ]
  },
  {
   "cell_type": "code",
   "execution_count": null,
   "metadata": {},
   "outputs": [],
   "source": []
  },
  {
   "cell_type": "code",
   "execution_count": null,
   "metadata": {},
   "outputs": [],
   "source": []
  },
  {
   "cell_type": "code",
   "execution_count": null,
   "metadata": {},
   "outputs": [],
   "source": []
  },
  {
   "cell_type": "code",
   "execution_count": null,
   "metadata": {},
   "outputs": [],
   "source": []
  },
  {
   "cell_type": "code",
   "execution_count": null,
   "metadata": {},
   "outputs": [],
   "source": []
  },
  {
   "cell_type": "code",
   "execution_count": null,
   "metadata": {},
   "outputs": [],
   "source": []
  },
  {
   "cell_type": "code",
   "execution_count": null,
   "metadata": {},
   "outputs": [],
   "source": []
  },
  {
   "cell_type": "code",
   "execution_count": null,
   "metadata": {},
   "outputs": [],
   "source": []
  },
  {
   "cell_type": "code",
   "execution_count": null,
   "metadata": {},
   "outputs": [],
   "source": []
  },
  {
   "cell_type": "code",
   "execution_count": 43,
   "metadata": {},
   "outputs": [
    {
     "ename": "ModuleNotFoundError",
     "evalue": "No module named 'conx'",
     "output_type": "error",
     "traceback": [
      "\u001b[1;31m---------------------------------------------------------------------------\u001b[0m",
      "\u001b[1;31mModuleNotFoundError\u001b[0m                       Traceback (most recent call last)",
      "\u001b[1;32m<ipython-input-43-88346c6ece16>\u001b[0m in \u001b[0;36m<module>\u001b[1;34m()\u001b[0m\n\u001b[1;32m----> 1\u001b[1;33m \u001b[1;32mimport\u001b[0m \u001b[0mconx\u001b[0m \u001b[1;32mas\u001b[0m \u001b[0mcx\u001b[0m\u001b[1;33m\u001b[0m\u001b[0m\n\u001b[0m\u001b[0;32m      2\u001b[0m \u001b[0mcx\u001b[0m\u001b[1;33m.\u001b[0m\u001b[0mview\u001b[0m\u001b[1;33m(\u001b[0m\u001b[0mmnist\u001b[0m\u001b[1;33m.\u001b[0m\u001b[0minputs\u001b[0m\u001b[1;33m[\u001b[0m\u001b[1;36m0\u001b[0m\u001b[1;33m:\u001b[0m\u001b[1;36m20\u001b[0m\u001b[1;33m]\u001b[0m\u001b[1;33m,\u001b[0m \u001b[0mlayout\u001b[0m\u001b[1;33m=\u001b[0m\u001b[1;33m(\u001b[0m\u001b[1;36m2\u001b[0m\u001b[1;33m,\u001b[0m\u001b[1;36m10\u001b[0m\u001b[1;33m)\u001b[0m\u001b[1;33m)\u001b[0m\u001b[1;33m\u001b[0m\u001b[0m\n",
      "\u001b[1;31mModuleNotFoundError\u001b[0m: No module named 'conx'"
     ]
    }
   ],
   "source": []
  },
  {
   "cell_type": "code",
   "execution_count": null,
   "metadata": {},
   "outputs": [],
   "source": []
  },
  {
   "cell_type": "code",
   "execution_count": null,
   "metadata": {},
   "outputs": [],
   "source": []
  },
  {
   "cell_type": "code",
   "execution_count": null,
   "metadata": {},
   "outputs": [],
   "source": []
  },
  {
   "cell_type": "code",
   "execution_count": null,
   "metadata": {},
   "outputs": [],
   "source": []
  },
  {
   "cell_type": "code",
   "execution_count": null,
   "metadata": {},
   "outputs": [],
   "source": []
  },
  {
   "cell_type": "code",
   "execution_count": null,
   "metadata": {},
   "outputs": [],
   "source": []
  },
  {
   "cell_type": "code",
   "execution_count": null,
   "metadata": {},
   "outputs": [],
   "source": []
  },
  {
   "cell_type": "code",
   "execution_count": null,
   "metadata": {},
   "outputs": [],
   "source": []
  },
  {
   "cell_type": "code",
   "execution_count": null,
   "metadata": {},
   "outputs": [],
   "source": []
  },
  {
   "cell_type": "code",
   "execution_count": null,
   "metadata": {},
   "outputs": [],
   "source": []
  },
  {
   "cell_type": "code",
   "execution_count": null,
   "metadata": {},
   "outputs": [],
   "source": []
  },
  {
   "cell_type": "code",
   "execution_count": null,
   "metadata": {},
   "outputs": [],
   "source": []
  },
  {
   "cell_type": "code",
   "execution_count": null,
   "metadata": {},
   "outputs": [],
   "source": []
  },
  {
   "cell_type": "code",
   "execution_count": null,
   "metadata": {},
   "outputs": [],
   "source": []
  },
  {
   "cell_type": "code",
   "execution_count": null,
   "metadata": {},
   "outputs": [],
   "source": []
  },
  {
   "cell_type": "code",
   "execution_count": null,
   "metadata": {},
   "outputs": [],
   "source": []
  },
  {
   "cell_type": "code",
   "execution_count": null,
   "metadata": {},
   "outputs": [],
   "source": []
  },
  {
   "cell_type": "code",
   "execution_count": null,
   "metadata": {},
   "outputs": [],
   "source": []
  },
  {
   "cell_type": "code",
   "execution_count": null,
   "metadata": {},
   "outputs": [],
   "source": []
  },
  {
   "cell_type": "code",
   "execution_count": null,
   "metadata": {},
   "outputs": [],
   "source": []
  },
  {
   "cell_type": "code",
   "execution_count": null,
   "metadata": {},
   "outputs": [],
   "source": []
  },
  {
   "cell_type": "code",
   "execution_count": null,
   "metadata": {},
   "outputs": [],
   "source": []
  },
  {
   "cell_type": "code",
   "execution_count": null,
   "metadata": {},
   "outputs": [],
   "source": []
  },
  {
   "cell_type": "code",
   "execution_count": null,
   "metadata": {},
   "outputs": [],
   "source": []
  },
  {
   "cell_type": "code",
   "execution_count": null,
   "metadata": {},
   "outputs": [],
   "source": []
  },
  {
   "cell_type": "code",
   "execution_count": null,
   "metadata": {},
   "outputs": [],
   "source": []
  },
  {
   "cell_type": "code",
   "execution_count": null,
   "metadata": {},
   "outputs": [],
   "source": []
  },
  {
   "cell_type": "code",
   "execution_count": null,
   "metadata": {},
   "outputs": [],
   "source": []
  },
  {
   "cell_type": "code",
   "execution_count": null,
   "metadata": {},
   "outputs": [],
   "source": []
  },
  {
   "cell_type": "code",
   "execution_count": null,
   "metadata": {},
   "outputs": [],
   "source": []
  },
  {
   "cell_type": "code",
   "execution_count": null,
   "metadata": {},
   "outputs": [],
   "source": []
  }
 ],
 "metadata": {
  "kernelspec": {
   "display_name": "Python 3",
   "language": "python",
   "name": "python3"
  },
  "language_info": {
   "codemirror_mode": {
    "name": "ipython",
    "version": 3
   },
   "file_extension": ".py",
   "mimetype": "text/x-python",
   "name": "python",
   "nbconvert_exporter": "python",
   "pygments_lexer": "ipython3",
   "version": "3.5.5"
  }
 },
 "nbformat": 4,
 "nbformat_minor": 2
}
