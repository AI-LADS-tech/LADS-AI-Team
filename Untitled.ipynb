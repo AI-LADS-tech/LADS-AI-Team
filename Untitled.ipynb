{
 "cells": [
  {
   "cell_type": "markdown",
   "metadata": {},
   "source": [
    "## Coding single neuron"
   ]
  },
  {
   "cell_type": "code",
   "execution_count": 11,
   "metadata": {},
   "outputs": [
    {
     "name": "stdout",
     "output_type": "stream",
     "text": [
      "86.44415708719355\n"
     ]
    }
   ],
   "source": [
    "import random\n",
    "\n",
    "input=[random.randint(0,10),random.randint(0,10),random.randint(0,10)] \n",
    "weight=[random.uniform(0.0,10.0),random.uniform(0.0,10.0),random.uniform(0.0,10.0)]\n",
    "bais=random.randint(0,1)\n",
    "output=(input[0]*weight[0]+input[1]*weight[1]+input[2]*weight[2]+bais )\n",
    "print(output)"
   ]
  },
  {
   "cell_type": "markdown",
   "metadata": {},
   "source": [
    "# coding multiple nuerons"
   ]
  },
  {
   "cell_type": "code",
   "execution_count": 10,
   "metadata": {},
   "outputs": [
    {
     "name": "stdout",
     "output_type": "stream",
     "text": [
      "(21.23476991314868, 23.131330483533063, 23.940210080883407)\n"
     ]
    }
   ],
   "source": [
    " input=[random.randint(0,10),random.randint(0,10),random.randint(0,10)] \n",
    "weight1=[random.uniform(0.0,10.0),random.uniform(0.0,10.0),random.uniform(0.0,10.0)]\n",
    "weight2=[random.uniform(0.0,10.0),random.uniform(0.0,10.0),random.uniform(0.0,10.0)]\n",
    "weight3=[random.uniform(0.0,10.0),random.uniform(0.0,10.0),random.uniform(0.0,10.0)]\n",
    "bais1=random.randint(0,1)\n",
    "bais2=random.randint(0,1)\n",
    "bais3=random.randint(0,1)\n",
    "output=(input[0]*weight1[0]+input[1]*weight1[1]+input[2]*weight1[2]+bais1 ,\n",
    "        input[0]*weight2[0]+input[1]*weight2[1]+input[2]*weight2[2]+bais2 ,\n",
    "        input[0]*weight3[0]+input[1]*weight3[1]+input[2]*weight3[2]+bais3 \n",
    "       )\n",
    "print(output)           "
   ]
  },
  {
   "cell_type": "code",
   "execution_count": null,
   "metadata": {},
   "outputs": [],
   "source": []
  },
  {
   "cell_type": "code",
   "execution_count": null,
   "metadata": {},
   "outputs": [],
   "source": []
  }
 ],
 "metadata": {
  "kernelspec": {
   "display_name": "Python 3",
   "language": "python",
   "name": "python3"
  },
  "language_info": {
   "codemirror_mode": {
    "name": "ipython",
    "version": 3
   },
   "file_extension": ".py",
   "mimetype": "text/x-python",
   "name": "python",
   "nbconvert_exporter": "python",
   "pygments_lexer": "ipython3",
   "version": "3.8.5"
  }
 },
 "nbformat": 4,
 "nbformat_minor": 4
}
